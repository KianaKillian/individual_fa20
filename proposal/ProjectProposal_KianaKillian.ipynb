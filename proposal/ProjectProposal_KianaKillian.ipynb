{
 "cells": [
  {
   "cell_type": "markdown",
   "metadata": {},
   "source": [
    "# COGS 108 - Project Proposal"
   ]
  },
  {
   "cell_type": "markdown",
   "metadata": {},
   "source": [
    "# Names & GitHub ID\n",
    "\n",
    "- Name: Kiana Killian\n",
    "- GitHub Username: KianaKillian"
   ]
  },
  {
   "cell_type": "markdown",
   "metadata": {},
   "source": [
    "# Research Question"
   ]
  },
  {
   "cell_type": "markdown",
   "metadata": {},
   "source": [
    "How does number and types of amenities offered at community parks correlate with the surrounding areas housing prices?"
   ]
  },
  {
   "cell_type": "markdown",
   "metadata": {},
   "source": [
    "## Background and Prior Work"
   ]
  },
  {
   "cell_type": "markdown",
   "metadata": {},
   "source": [
    "Access to everything, from food to education, tends to vary based on a neighborhood's wealth. Looking into the current situation in San Diego and studying what parks in which location offer users to partake in certain activities is important to ensure accessibility. In 2013 the County of San Diego noticed that the residents in Lakeside greatly struggled with getting access to workout equipment and space (National)  Many of the youth in Lakeside struggled with being overweight or obese. As a result, the county began a previously piloted program, known as Rec Rx, which offered free reaction programs and discounted fitness classes to youth with a prescription from their pediatrician. This program saw little success as even those who were given prescriptions by their pediatrician did not use them to enroll in the fitness classes. This brought up many questions as to what future steps could be taken. San Diego County's median household income is $79,079 and the median property value is $606,200 recorded in 2018 (Datawheel). Over 8% of residents ages 18-24 live in what is considered poverty status (Datawheel). This number has most likely grown since the COVID-19 pandemic began. One of the failures of the Rec Rx was the assumption to access to a pediatrician in order to get a prescription. Patient to clinician ratio in San Diego County is 1,274 to 1 (Datawheel). Although this is substantially better than their neighboring country of Imperial County, whose ratio is 4,742 to 1, it is not equally spread out throughout the county (Datawheel). Additionally, California has the highest estimated chronically homeless individuals. San Diego County has 20.1% prevalence of adult obesity. As of 2018, 93.2% of San Diego County residents were estimated to have access to exercise opportunities (Datawheel).  All of these statistics further emphasize the importance of ensuring affordable access to spaces in which residents can satisfy their physical movement needs.  Having access to not only a nearby but also well equipped park can be life changing for residents.  \n",
    "\n",
    "References (include links):\n",
    "- 1)National Recreation and Park Association 2014 County of San Diego Breaks Barrier to Recreation for Obese Youth. Available at https://www.nrpa.org/success-stories/county-of-san-diego-breaks-barriers-to-recreation-for-obese-youth/ [Last accessed 23October2020]
    "- 2)Datawheel 2018 DATAUSA: San Diego County, CA. Available at https://datausa.io/profile/geo/san-diego-ca#economy [Last accessed 23October2020]
    "- 3)Redfin 2020 Marking Insights. Available at https://www.redfin.com/zipcode/92122/housing-market [Last accessed 23October2020]
    "- 4)San Diego County 2013 County of San Diego HHSA Service Regions. Available at https://www.sandiegocounty.gov/content/dam/sdc/hhsa/programs/bhs/TRL/2014-15%20Updates/HHSA%20Service%20Regions%20map%2011%20x%2017%20landscape.pdf [Last accessed 23October2020]
    "- 5)City of San Diego 2020 City Parks. Available at https://experience.arcgis.com/experience/01e5d528b6114385a7962762f514533f/page/page_6/ [Last accessed on 23October2020]
    "- 6)Cubits 2019 California Zip Codes by Population. Available at https://www.california-demographics.com/zip_codes_by_population [Last accessed on 23October2020]\n","
   ]
  },
  {
   "cell_type": "markdown",
   "metadata": {},
   "source": [
    "# Hypothesis\n"
   ]
  },
  {
   "cell_type": "markdown",
   "metadata": {},
   "source": [
    "Lower income areas tend to be delegated smaller budgets for public entities which results in fewer resources. Because of this trend, I hypothesize that the parks in lower income neighborhood are fewer in number, smaller in size and offer fewer amenities than parks in higher income areas."
   ]
  },
  {
   "cell_type": "markdown",
   "metadata": {},
   "source": [
    "# Data"
   ]
  },
  {
   "cell_type": "markdown",
   "metadata": {},
   "source": [
    "The ideal dataset that would be used in this project would include the following variables: average housing prices per zip code, number of parks per zip code, and number of amenities and type of amenities per park, the size (in acres) of the park, and the population of residents in the zip code. The housing prices will be found by looking at the average selling price in the zip code in the last five years on RedFin (RedFin).  One city park in each zip code in San Diego's North Central, Central, and South Districts will be chosen, if available (San Diego).  Those zip codes without a park will still be included just no specified park will be listed. The data for number of parks in the zip code, the type of amenities offered at the selected park and the size of the parks will be used for found on the City of San Diego website (City). The population of zip codes will be gathered from California Demographics by Cubit (Cubit). The population and number of parks in a zip code will be used to determine the resident to park ratio per zip code. This data will be collected in tables and multiple versions of visuals will be used, including scatterplots to show the relationship between housing prices and the ratio of resident to park. "
   ]
  },
  {
   "cell_type": "markdown",
   "metadata": {},
   "source": [
    "# Ethics & Privacy"
   ]
  },
  {
   "cell_type": "markdown",
   "metadata": {},
   "source": [
    "There is some concern because this study is generalizing whole zip codes. By generalizing whole zip codes and associating them with a single average housing price, some neighborhoods may be overlooked. Those neighborhoods may be in need of better access to public parks but because this study is looking at the larger picture, their need may not be seen. In regards to the specific data collected, the housing prices is gathered will not be used for the purpose it is intended. It is intended to provide people with a general idea of the housing prices in the zip code. It is based on the current average going price and calculations will need to be made in order for the average of the past five years is determined. The amenities listed on the City of San Diego website for its city parks may be biased because although it lists the park has offering the amenities, the conditions of the amenities and their general usability will not be further investigated. The population of each zip code came from the census. Unfortunately the census only counts those who reside in the county. In order to prove residency one needs an address which means this population count does not include the homeless population, most of whom are in need of affordable and accessible access to the amenities park offer. In order to address the concern about generalizing a whole zip code, this study will be clear throughout it that this is the expectation. Zip codes tend to be used when studying cities, countries and states. It is important to acknowledge it and its shortcomings. In regards to the concern about the accuracy of the City of San Diego's website, once again a disclaimer will be noted and further investigation into the condition and maintenance of these parks will be advised. For the issue with the census, another note will be taken. Lastly, those zip codes in which there is not park will still be included in this study because they emphasize the lack of accessibility to those neighborhoods. "
   ]
  }
 ],
 "metadata": {
  "kernelspec": {
   "display_name": "Python 3",
   "language": "python",
   "name": "python3"
  },
  "language_info": {
   "codemirror_mode": {
    "name": "ipython",
    "version": 3
   },
   "file_extension": ".py",
   "mimetype": "text/x-python",
   "name": "python",
   "nbconvert_exporter": "python",
   "pygments_lexer": "ipython3",
   "version": "3.7.9"
  }
 },
 "nbformat": 4,
 "nbformat_minor": 2
}
